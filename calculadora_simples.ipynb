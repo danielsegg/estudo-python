{
  "nbformat": 4,
  "nbformat_minor": 0,
  "metadata": {
    "colab": {
      "provenance": [],
      "authorship_tag": "ABX9TyOHTrdkuWxl/eiOxHBy6n/T",
      "include_colab_link": true
    },
    "kernelspec": {
      "name": "python3",
      "display_name": "Python 3"
    },
    "language_info": {
      "name": "python"
    }
  },
  "cells": [
    {
      "cell_type": "markdown",
      "metadata": {
        "id": "view-in-github",
        "colab_type": "text"
      },
      "source": [
        "<a href=\"https://colab.research.google.com/github/danielsegg/estudo-python/blob/main/calculadora_simples.ipynb\" target=\"_parent\"><img src=\"https://colab.research.google.com/assets/colab-badge.svg\" alt=\"Open In Colab\"/></a>"
      ]
    },
    {
      "cell_type": "markdown",
      "source": [
        "### Calculadora Simples"
      ],
      "metadata": {
        "id": "EMpa_UeBmtGe"
      }
    },
    {
      "cell_type": "code",
      "source": [
        "resultado = 0.0\n",
        "erro = False\n",
        "\n",
        "numero1 = float(input(\"Digite o primeiro valor: \"))\n",
        "numero2 = float(input(\"Digite o segundo valor: \"))\n",
        "\n",
        "operacao = input(\"Digite a operação (+, -, *, /): \")\n",
        "\n",
        "if operacao == '+':\n",
        "  resultado = numero1 + numero2\n",
        "elif operacao == '-':\n",
        "  resultado = numero1 - numero2\n",
        "elif operacao == '*':\n",
        "  resultado = numero1 * numero2\n",
        "elif operacao == '/':\n",
        "  resultado = numero1 / numero2\n",
        "else:\n",
        "  erro = True\n",
        "  print(\"Operação inválida\")\n",
        "\n",
        "if erro == False:\n",
        "  print(\"O resultado é: \", resultado)"
      ],
      "metadata": {
        "id": "D50LqdXGnI0I"
      },
      "execution_count": null,
      "outputs": []
    }
  ]
}