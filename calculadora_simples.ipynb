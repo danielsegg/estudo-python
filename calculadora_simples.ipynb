{
  "nbformat": 4,
  "nbformat_minor": 0,
  "metadata": {
    "colab": {
      "provenance": [],
      "authorship_tag": "ABX9TyPBYrwVXMjzVBsimBu7ZVRW",
      "include_colab_link": true
    },
    "kernelspec": {
      "name": "python3",
      "display_name": "Python 3"
    },
    "language_info": {
      "name": "python"
    }
  },
  "cells": [
    {
      "cell_type": "markdown",
      "metadata": {
        "id": "view-in-github",
        "colab_type": "text"
      },
      "source": [
        "<a href=\"https://colab.research.google.com/github/danielsegg/estudo-python/blob/main/calculadora_simples.ipynb\" target=\"_parent\"><img src=\"https://colab.research.google.com/assets/colab-badge.svg\" alt=\"Open In Colab\"/></a>"
      ]
    },
    {
      "cell_type": "markdown",
      "source": [
        "### Calculadora Simples"
      ],
      "metadata": {
        "id": "EMpa_UeBmtGe"
      }
    },
    {
      "cell_type": "code",
      "source": [
        "resultado = 0.0\n",
        "valor1 = float(input(\"Digite o primeiro valor: \"))\n",
        "valor2 = float(input(\"Digite o segundo valor: \"))\n",
        "\n",
        "operacao = input(\"Digite a operação (+, -, *, /): \")\n",
        "\n",
        "if operacao == '+':\n",
        "  resultado = valor1 + valor2\n",
        "elif operacao == '-':\n",
        "  resultado = valor1 - valor2\n",
        "elif operacao == '*':\n",
        "  resultado = valor1 * valor2\n",
        "elif operacao == '/':\n",
        "  resultado = valor1 / valor2\n",
        "else:\n",
        "  print(\"Operação inválida\")\n",
        "\n",
        "print(\"O resultado da operação é: \", resultado)"
      ],
      "metadata": {
        "colab": {
          "base_uri": "https://localhost:8080/"
        },
        "id": "D50LqdXGnI0I",
        "outputId": "d3a2482c-09a1-4d02-a4e8-caf5b5fff03d"
      },
      "execution_count": 32,
      "outputs": [
        {
          "output_type": "stream",
          "name": "stdout",
          "text": [
            "Digite o primeiro valor: 5\n",
            "Digite o segundo valor: 5\n",
            "Digite a operação (+, -, *, /): *\n",
            "O resultado da operação é:  25.0\n"
          ]
        }
      ]
    }
  ]
}